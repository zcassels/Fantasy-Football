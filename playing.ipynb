{
 "cells": [
  {
   "cell_type": "code",
   "execution_count": 77,
   "metadata": {},
   "outputs": [],
   "source": [
    "import pandas as pd\n",
    "from sklearn.metrics import mean_squared_error\n",
    "import math"
   ]
  },
  {
   "cell_type": "code",
   "execution_count": 199,
   "metadata": {},
   "outputs": [],
   "source": [
    "game = 7\n",
    "df = pd.read_csv('./players.csv')"
   ]
  },
  {
   "cell_type": "code",
   "execution_count": 200,
   "metadata": {},
   "outputs": [
    {
     "data": {
      "text/plain": [
       "count    312.000000\n",
       "mean       7.748462\n",
       "std        5.737779\n",
       "min        0.070000\n",
       "25%        2.790000\n",
       "50%        7.005000\n",
       "75%       12.050000\n",
       "max       24.300000\n",
       "Name: game_7, dtype: float64"
      ]
     },
     "execution_count": 200,
     "metadata": {},
     "output_type": "execute_result"
    }
   ],
   "source": [
    "df[f'game_{game}'][df[f'game_{game}']>0].describe()"
   ]
  },
  {
   "cell_type": "code",
   "execution_count": 201,
   "metadata": {},
   "outputs": [
    {
     "data": {
      "text/plain": [
       "<Axes: >"
      ]
     },
     "execution_count": 201,
     "metadata": {},
     "output_type": "execute_result"
    },
    {
     "data": {
      "image/png": "[encoded data removed]",
      "text/plain": [
       "<Figure size 640x480 with 1 Axes>"
      ]
     },
     "metadata": {},
     "output_type": "display_data"
    }
   ],
   "source": [
    "# Score distribution, as Histogram\n",
    "df[f'game_{game}'][df[f'game_{game}']>0].hist(bins=40)"
   ]
  },
  {
   "cell_type": "code",
   "execution_count": 202,
   "metadata": {},
   "outputs": [
    {
     "data": {
      "text/plain": [
       "count    248.000000\n",
       "mean       1.720738\n",
       "std        1.826425\n",
       "min        0.000000\n",
       "25%        0.500500\n",
       "50%        1.254000\n",
       "75%        2.398500\n",
       "max       14.609000\n",
       "dtype: float64"
      ]
     },
     "execution_count": 202,
     "metadata": {},
     "output_type": "execute_result"
    }
   ],
   "source": [
    "nonzero = df[df[f'game_{game}']>0]\n",
    "\n",
    "(nonzero['game_7']-nonzero['proj_7']).abs().describe()\n",
    "\n",
    "# wow only 1.720738"
   ]
  },
  {
   "cell_type": "code",
   "execution_count": 159,
   "metadata": {},
   "outputs": [
    {
     "data": {
      "text/plain": [
       "<Axes: >"
      ]
     },
     "execution_count": 159,
     "metadata": {},
     "output_type": "execute_result"
    },
    {
     "data": {
      "image/png": "[encoded data removed]",
      "text/plain": [
       "<Figure size 640x480 with 1 Axes>"
      ]
     },
     "metadata": {},
     "output_type": "display_data"
    }
   ],
   "source": [
    "nonzero=df[df['game_7']>0]\n",
    "nonzero=nonzero[nonzero['game_6']>0]\n",
    "\n",
    "(nonzero['game_6']-nonzero['game_7']).hist(bins=100)"
   ]
  },
  {
   "cell_type": "code",
   "execution_count": 112,
   "metadata": {},
   "outputs": [
    {
     "data": {
      "text/plain": [
       "6.283316939516129"
      ]
     },
     "execution_count": 112,
     "metadata": {},
     "output_type": "execute_result"
    }
   ],
   "source": [
    "projNotNull=df[~df['proj_7'].isna()]\n",
    "fixed = projNotNull[projNotNull['game_7']>0]\n",
    "\n",
    "mean_squared_error(fixed['game_7'], fixed['proj_7'])\n"
   ]
  },
  {
   "cell_type": "code",
   "execution_count": 122,
   "metadata": {},
   "outputs": [
    {
     "data": {
      "text/plain": [
       "16.083766532258068"
      ]
     },
     "execution_count": 122,
     "metadata": {},
     "output_type": "execute_result"
    }
   ],
   "source": [
    "mean_squared_error(fixed['game_6'], fixed['game_7'])"
   ]
  },
  {
   "cell_type": "code",
   "execution_count": 126,
   "metadata": {},
   "outputs": [
    {
     "data": {
      "text/plain": [
       "1.4929684684684688"
      ]
     },
     "execution_count": 126,
     "metadata": {},
     "output_type": "execute_result"
    }
   ],
   "source": [
    "(nonzero['game_6']-nonzero['proj_6']).abs().mean()"
   ]
  },
  {
   "cell_type": "code",
   "execution_count": 189,
   "metadata": {},
   "outputs": [
    {
     "data": {
      "text/plain": [
       "[('game_1', 1.9864239130434782),\n",
       " ('game_2', 1.3681521739130436),\n",
       " ('game_3', 1.579478260869565),\n",
       " ('game_4', 1.5816847826086955),\n",
       " ('game_5', 1.9216521739130432),\n",
       " ('game_6', 1.5721630434782612),\n",
       " ('game_7', 1.7345760869565217)]"
      ]
     },
     "execution_count": 189,
     "metadata": {},
     "output_type": "execute_result"
    }
   ],
   "source": [
    "# ESPN projections\n",
    "\n",
    "report = []\n",
    "for i in range(1, 8):\n",
    "    df=df[~df[f'proj_{i}'].isna()]\n",
    "    df=df[df[f'game_{i}']>5]\n",
    "    report.append((f'game_{i}', (df[f'game_{i}']-df[f'proj_{i}']).abs().mean()))\n",
    "report"
   ]
  },
  {
   "cell_type": "code",
   "execution_count": 193,
   "metadata": {},
   "outputs": [
    {
     "data": {
      "text/plain": [
       "[('game_2', 1.9535869565217394),\n",
       " ('game_3', 1.6700869565217389),\n",
       " ('game_4', 1.8742717391304347),\n",
       " ('game_5', 1.8840869565217389),\n",
       " ('game_6', 2.089054347826087),\n",
       " ('game_7', 1.8332717391304352)]"
      ]
     },
     "execution_count": 193,
     "metadata": {},
     "output_type": "execute_result"
    }
   ],
   "source": [
    "# One game look back\n",
    "\n",
    "report = []\n",
    "for i in range(2, 8):\n",
    "    df=df[~df[f'proj_{i}'].isna()]\n",
    "    df=df[df[f'game_{i}']>5]\n",
    "    report.append((f'game_{i}', (df[f'game_{i-1}']-df[f'proj_{i}']).abs().mean()))\n",
    "report"
   ]
  },
  {
   "cell_type": "code",
   "execution_count": 184,
   "metadata": {},
   "outputs": [
    {
     "name": "stdout",
     "output_type": "stream",
     "text": [
      "Avg Delta\n",
      "2.1670192307692306\n",
      "MSE\n",
      "12.305157514245014\n"
     ]
    }
   ],
   "source": [
    "# Average from last 6 games vs game 7\n",
    "\n",
    "nonzero = df[df['game_7']>0]\n",
    "last_avg = nonzero[['game_1', 'game_2', 'game_3', 'game_4', 'game_5', 'game_6']].mean(axis=1)\n",
    "\n",
    "print(\"Avg Delta\")\n",
    "print((nonzero['game_7']-last_avg).abs().mean())\n",
    "print(\"MSE\")\n",
    "print(mean_squared_error(nonzero['game_7'], last_avg))\n"
   ]
  }
 ],
 "metadata": {
  "kernelspec": {
   "display_name": "Python 3",
   "language": "python",
   "name": "python3"
  },
  "language_info": {
   "codemirror_mode": {
    "name": "ipython",
    "version": 3
   },
   "file_extension": ".py",
   "mimetype": "text/x-python",
   "name": "python",
   "nbconvert_exporter": "python",
   "pygments_lexer": "ipython3",
   "version": "3.10.12"
  }
 },
 "nbformat": 4,
 "nbformat_minor": 2
}
